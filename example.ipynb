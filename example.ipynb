{
 "cells": [
  {
   "cell_type": "markdown",
   "id": "6b120d54",
   "metadata": {},
   "source": [
    "## Replicar Lite \n",
    "This notebook contains a  curated list of small examples designed to show all of the components available, how they work with each other and their configuration capabilities. "
   ]
  },
  {
   "cell_type": "markdown",
   "id": "5cf3c698",
   "metadata": {},
   "source": [
    "Lets load up all of the modules first here are the components available\n",
    "1) __common_types__<br>\n",
    "   This module contains commonly used types across the system<br>\n",
    "   a) TrafficVehicle -> for returning state of traffic and ego <br> \n",
    "   b) OpendriveRoadInfo -> for input of opendrive lane information <br>\n",
    "   <br>\n",
    "2) __tools__<br>\n",
    "   This module contains<br> \n",
    "   a) Visuaizer<br><br>\n",
    "3) __traffic_config__<br>\n",
    "   This module contains everything related to traffic configuration\n",
    "   the most important are <br>\n",
    "   a) TrafficConfigManager <br>\n",
    "   b) InputRoadUserProfile<br>\n",
    "   c) InputDriverProfile<br><br>\n",
    "4) __traffic__ <br>\n",
    "   This module contains components related to traffic simulation<br>\n",
    "   a) Traffic<br>\n",
    "   b) ControllableEgo<br>\n",
    "   c) ControllerScheduler<br>"
   ]
  },
  {
   "cell_type": "code",
   "execution_count": null,
   "id": "da40f5f5",
   "metadata": {},
   "outputs": [],
   "source": [
    "import common_types\n",
    "import tools\n",
    "import traffic_config\n",
    "import traffic"
   ]
  },
  {
   "cell_type": "markdown",
   "id": "a2b51ab2",
   "metadata": {},
   "source": [
    "### Running loop \n",
    "Let's define a simple running with the following components<br>\n",
    "1) Traffic<br>\n",
    "2) ControllableEgo<br>\n",
    "3) ControllerScheduler<br>\n",
    "4) Visualizer <br> <br>\n",
    "\n",
    "This loop will receive a _TrafficConfigManager_ object to run with a specific configuration.<br>\n",
    "Some configurations we are doing here which are not part of _TrafficConfigManager_<br>\n",
    "a) ControllerScheduler is configured to stay green for 20 seconds<br>\n",
    "b) The visualizer is being updated at 25 fps<br>"
   ]
  },
  {
   "cell_type": "code",
   "execution_count": null,
   "id": "689a9e5f",
   "metadata": {},
   "outputs": [],
   "source": [
    "def run_traffic(config_manager, with_external_decision=False):\n",
    "\n",
    "    # Initialization of all required objects\n",
    "\n",
    "    ego = traffic.ControllableEgo(config_manager,\n",
    "                                  with_external_decision)\n",
    "    traffic_lib = traffic.Traffic(config_manager)\n",
    "    visualizer = tools.Visualizer(config_manager, False)\n",
    "    # Here we want each traffic light to stay green for 20 seconds\n",
    "    controller_scheduler = traffic.ControllerScheduler(config_manager,\n",
    "            20)\n",
    "\n",
    "    vehicles = []\n",
    "\n",
    "    is_running = True\n",
    "    is_paused = False\n",
    "\n",
    "    update_visualizer = True\n",
    "    update_visualizer_fps_frame_limit = 25\n",
    "    update_visualizer_frame_counter = 0\n",
    "\n",
    "    while is_running:\n",
    "        is_paused = visualizer.is_paused()\n",
    "        if not is_paused:\n",
    "            # Set to keep decision if we want to control decision externally\n",
    "\n",
    "            if with_external_decision is True:\n",
    "                ego.set_decision(traffic.Decision.KEEP)\n",
    "\n",
    "            [light_states_simulation, light_states_visualizer] = \\\n",
    "                controller_scheduler.update()\n",
    "            ego_state = ego.drive(vehicles, light_states_simulation)\n",
    "            vehicles = traffic_lib.sync([ego_state],\n",
    "                    light_states_simulation)\n",
    "            vehicles.append(ego_state)\n",
    "\n",
    "        # Update visualzer at 25 FPS\n",
    "\n",
    "        if update_visualizer:\n",
    "            # smoothed fps calculation can be sent here to visualizer\n",
    "            # this will give accurate calculation RT factor\n",
    "            is_running = visualizer.update(config_manager.fps,\n",
    "                    vehicles, light_states_visualizer)\n",
    "            update_visualizer = False\n",
    "\n",
    "        if update_visualizer_frame_counter \\\n",
    "            == update_visualizer_fps_frame_limit:\n",
    "            update_visualizer = True\n",
    "            update_visualizer_frame_counter = 0\n",
    "\n",
    "        update_visualizer_frame_counter += 1"
   ]
  },
  {
   "cell_type": "markdown",
   "id": "3cfad19c",
   "metadata": {},
   "source": [
    "# Default Configuration"
   ]
  },
  {
   "cell_type": "markdown",
   "id": "faa49ec2",
   "metadata": {},
   "source": [
    "Let's start simulating some traffic <br>\n",
    "We are only required to give variable known as map_path for initializing <br>\n",
    "TrafficConfigManager object <br><br>\n",
    "All others can take on default values <br>\n",
    "Some of the highlights of the configuration are <br>\n",
    "a) fps = 100 <br>\n",
    "b) traffic_amount = 100 <br>\n",
    "c) spanwer_strategy = SPAWN_EVERYWHERE <br>\n",
    "d) ego_sensor_range = 200 <br>\n",
    "e) roaduser_profiles = [[Car, 0.0], [Car, 0.85], [Bus, 0.03], [Truck, 0.01], [Motorcycle, 0.02]]<br>"
   ]
  },
  {
   "cell_type": "code",
   "execution_count": null,
   "id": "2fc09646",
   "metadata": {},
   "outputs": [],
   "source": [
    "map_file_path = \\\n",
    "    'maps/A10-IN-1-19KM_HW_AC_DE_BER_RELEASE_20210510.xodr'\n",
    "    \n",
    "config_manager = \\\n",
    "    traffic_config.TrafficConfigManager(map_path=map_file_path)\n",
    "    \n",
    "run_traffic(config_manager)"
   ]
  },
  {
   "cell_type": "markdown",
   "id": "883c81b0",
   "metadata": {},
   "source": [
    "## Rate Based Spanwer"
   ]
  },
  {
   "cell_type": "markdown",
   "id": "84d2d902",
   "metadata": {},
   "source": [
    " Rates based spawner is useful for replicating real world\n",
    " traffic flows.<br>\n",
    " The use case is that we want to observe how a certain flow of  traffic behaves at junctions\n",
    " intersections and around traffic lights and more importantly \n",
    " how it changes with adjustments to these things as well<br><br>\n",
    " \n",
    " For this configuration<br>\n",
    " a) We change the spawner type to SPAWN_RATES <br>\n",
    " b) We add a lane to spawn_point in opendrive format (road_id, lane_id, lane_section) <br>\n",
    "    and rate in vehicles per hour <br>\n",
    " c) We change the traffic amount to 500 <br>"
   ]
  },
  {
   "cell_type": "code",
   "execution_count": null,
   "id": "5b06a969",
   "metadata": {},
   "outputs": [],
   "source": [
    "config_manager.spawner_strategy = \\\n",
    "    traffic_config.SpawnerStrategy.SPAWN_RATES\n",
    "\n",
    "odr_lane = common_types.OpenDriveRoadInfo(road_id=268,\n",
    "        lane_id=-2, lane_section=0)\n",
    "config_manager.spawn_points = [[odr_lane, 1800]]\n",
    "\n",
    "config_manager.traffic_amount = 500\n",
    "\n",
    "run_traffic(config_manager)"
   ]
  },
  {
   "cell_type": "markdown",
   "id": "94156d91",
   "metadata": {},
   "source": [
    "## Spawn Around Ego Vision"
   ]
  },
  {
   "cell_type": "markdown",
   "id": "e9ac7ad4",
   "metadata": {},
   "source": [
    "For this configuration <br>\n",
    "a) Change spawner strategy to SPAWN_AROUND_EGO_VISION <br>\n",
    "b) Make a deep copy of the current configuration<br>\n",
    "c) Change sensor range to 50 meters in copied configuration<br>\n",
    "d) Change traffic amount to 50 in copied configuration<br><br>\n",
    "\n",
    "Press __S__ to visualize the sensor range in visualizer<br>"
   ]
  },
  {
   "cell_type": "code",
   "execution_count": null,
   "id": "d2b40cdf",
   "metadata": {},
   "outputs": [],
   "source": [
    "config_manager.spawner_strategy = \\\n",
    "    traffic_config.SpawnerStrategy.SPAWN_AROUND_EGO_VISION\n",
    "\n",
    "config_manager_copy = config_manager.copy()\n",
    "config_manager_copy.ego_sensor_range = 50\n",
    "config_manager_copy.traffic_amount = 50\n",
    "\n",
    "run_traffic(config_manager_copy)"
   ]
  },
  {
   "cell_type": "markdown",
   "id": "c88e61ce",
   "metadata": {},
   "source": [
    "## RoadUserProfile"
   ]
  },
  {
   "cell_type": "markdown",
   "id": "b2cf416d",
   "metadata": {},
   "source": [
    "A recap of the default road user profile configuration <br>\n",
    "The profiles themselves have a lot configuration parameters as well <br>\n",
    "but we will describe the type and it's percentage here <br>\n",
    "in order to keep things simple. <br>\n",
    "(Car, 0.0) -> Ego Profile, The first profile must always be ego <br>\n",
    "(Car, 0.85) -> Car Profile with percentage 0.85 <br>\n",
    "(Bus, 0.03) -> Bus Profile with percentage 0.03 <br>\n",
    "(Truck, 0.1) -> Truck Profile with percentage 0.1 <br>\n",
    "(Motrocycle, 0.02) -> Motorcycle Profile with percentage 0.02 <br>\n",
    "<br>    \n",
    "The configuration described above defines a simulation in which <br>\n",
    "we will roughly observe the above percentages of vehicle types <br>\n",
    "as seen.<br>\n",
    "<br>\n",
    "__Note__: <br>\n",
    "We can have multiple profiles of the same type and any other <br>\n",
    "mix possible. The only thing we need to take care of is that <br> \n",
    "percentage other than ego should sum to 1.0 <br>"
   ]
  },
  {
   "cell_type": "markdown",
   "id": "b53a4573",
   "metadata": {},
   "source": [
    "Let's create a traffic simulation with only buses <br><br>\n",
    "__InputRoadUserProfile__ is the object used to define a road user profile <br>\n",
    "If you know the parameters you can construct the whole object to your <br>\n",
    "liking however if you don't have accurate values for a given profile <br><br>\n",
    "We have given the option to specify the type of profile that you want <br>\n",
    "We will construct the complete road user profile just from the __RoadUserType__ <br>"
   ]
  },
  {
   "cell_type": "markdown",
   "id": "09a95f91",
   "metadata": {},
   "source": [
    "Let's create two bus profiles <br>\n",
    "a) The default bus profile <br>\n",
    "b) The default bus profile with length changed to 15 meters <br>"
   ]
  },
  {
   "cell_type": "code",
   "execution_count": null,
   "id": "b36944f4",
   "metadata": {},
   "outputs": [],
   "source": [
    "roaduser_bus = \\\n",
    "    traffic_config.InputRoadUserProfile(traffic_config.RoadUserType.BUS)\n",
    "    \n",
    "roaduser_bus_long = \\\n",
    "    traffic_config.InputRoadUserProfile(traffic_config.RoadUserType.BUS)\n",
    "    \n",
    "# Let's change the length of the bus to 15 meters instead of the default\n",
    "roaduser_bus_long.length = 15"
   ]
  },
  {
   "cell_type": "markdown",
   "id": "74a14519",
   "metadata": {},
   "source": [
    "Get the roaduser_profiles which are already present in <br>\n",
    "__TrafficConfigManager__ object and take the ego profile from that<br>\n",
    "<br>\n",
    "The first object from the list and than again 0 object as the objects of list are of type <br>\n",
    "Tuple[InputRoadUserProfile, Percentage] <br>"
   ]
  },
  {
   "cell_type": "code",
   "execution_count": null,
   "id": "01724ae8",
   "metadata": {},
   "outputs": [],
   "source": [
    "ego_profile = config_manager.roaduser_profiles[0][0]"
   ]
  },
  {
   "cell_type": "markdown",
   "id": "03a128fa",
   "metadata": {},
   "source": [
    " Now construct the road user profiles with both bus profiles"
   ]
  },
  {
   "cell_type": "code",
   "execution_count": null,
   "id": "37b0c97c",
   "metadata": {},
   "outputs": [],
   "source": [
    "config_manager.roaduser_profiles = [[ego_profile, 0.0],\n",
    "            [roaduser_bus, 0.5], [roaduser_bus_long, 0.5]]\n",
    "\n",
    "run_traffic(config_manager)"
   ]
  },
  {
   "cell_type": "markdown",
   "id": "91b20f54",
   "metadata": {},
   "source": [
    "## DriverProfile"
   ]
  },
  {
   "cell_type": "markdown",
   "id": "8c9f2435",
   "metadata": {},
   "source": [
    "Each vehicle profile has associated driver profiles as well <br>\n",
    "By default only one driver profile is pushed with 1.0 percentage <br>\n",
    "<br>\n",
    "More can be pushed as well if needed if user wants same vehicle profile <br>\n",
    "with different types of driver driving them<br>\n",
    "<br>\n",
    "Let's change the default moderate profile to an aggressive one <br>\n",
    "So we will see more aggressive values for each of the road users <br>\n",
    "In this configuration <br>\n",
    "<br>\n",
    "We will set all vehicle profiles to cars <br>"
   ]
  },
  {
   "cell_type": "code",
   "execution_count": null,
   "id": "b02a57fa",
   "metadata": {},
   "outputs": [],
   "source": [
    "roaduser_car = \\\n",
    "    traffic_config.InputRoadUserProfile(traffic_config.RoadUserType.CAR)\n",
    "\n",
    "driver_profile = roaduser_car.driver_profiles[0][0]\n",
    "driver_profile.p1 = 0.0\n",
    "driver_profile.p2 = 0.0\n",
    "driver_profile.p3 = 0.0\n",
    "driver_profile.p4 = 1.0\n",
    "driver_profile.target_speed = 40\n",
    "roaduser_car.driver_profiles = [[driver_profile, 1.0]]\n",
    "\n",
    "config_manager.roaduser_profiles = [[ego_profile, 0.0],\n",
    "        [roaduser_car, 1.0]]\n",
    "\n",
    "run_traffic(config_manager)"
   ]
  },
  {
   "cell_type": "markdown",
   "id": "38ed58d6",
   "metadata": {},
   "source": [
    "## Externally Controlled Decision"
   ]
  },
  {
   "cell_type": "markdown",
   "id": "10e512fe",
   "metadata": {},
   "source": [
    "We will run the ego with externally controlled decision<br>\n",
    "We will enforce it keep going in the current lane <br>\n",
    "<br>\n",
    "Other decisions are also available like left and right<br>\n",
    "If the decision is not possible it will be ignored.<br>\n",
    "and the result will be returnd in the set_decision() function. <br>\n",
    "<br>\n",
    "This is acheived by passing True as second <br>\n",
    "parameter and than handled inside run_traffic() function<br>\n",
    "with the ControllableEgo object <br>"
   ]
  },
  {
   "cell_type": "code",
   "execution_count": null,
   "id": "1d2d17ae",
   "metadata": {},
   "outputs": [],
   "source": [
    "run_traffic(config_manager, True)"
   ]
  },
  {
   "cell_type": "markdown",
   "id": "cdd18f1a",
   "metadata": {},
   "source": [
    "## Urban Traffic with Traffic Light Signals"
   ]
  },
  {
   "cell_type": "markdown",
   "id": "5927a054",
   "metadata": {},
   "source": [
    "In this configuration <br>\n",
    "a) Change map to an urban one i.e with intersections and traffic lights as well <br>\n",
    "b) roaduser_profiles to cars and pedestrians only <br>\n",
    "c) spawner_strategy to SPAWN_EVERYWHERE <br>\n",
    "d) traffic_amount to 400 to fill out the map <br>"
   ]
  },
  {
   "cell_type": "code",
   "execution_count": null,
   "id": "bb68c27f",
   "metadata": {},
   "outputs": [],
   "source": [
    "config_manager.map_path = \\\n",
    "    'maps/BMW-RA+JT-Headquater-11KM_UR_AC_DE_MUN_RELEASE_20210901.xodr'\n",
    "\n",
    "roaduser_pedestrian = \\\n",
    "    traffic_config.InputRoadUserProfile(\n",
    "                    traffic_config.RoadUserType.PEDESTRIAN)\n",
    "\n",
    "config_manager.roaduser_profiles = [[ego_profile, 0.0],\n",
    "        [roaduser_car, 0.4], [roaduser_pedestrian, 0.6]]\n",
    "\n",
    "config_manager.spawner_strategy = \\\n",
    "    traffic_config.SpawnerStrategy.SPAWN_EVERYWHERE\n",
    "\n",
    "config_manager.traffic_amount = 400\n",
    "\n",
    "run_traffic(config_manager)"
   ]
  }
 ],
 "metadata": {
  "kernelspec": {
   "display_name": "Python 3",
   "language": "python",
   "name": "python3"
  },
  "language_info": {
   "codemirror_mode": {
    "name": "ipython",
    "version": 3
   },
   "file_extension": ".py",
   "mimetype": "text/x-python",
   "name": "python",
   "nbconvert_exporter": "python",
   "pygments_lexer": "ipython3",
   "version": "3.6.13"
  }
 },
 "nbformat": 4,
 "nbformat_minor": 5
}
